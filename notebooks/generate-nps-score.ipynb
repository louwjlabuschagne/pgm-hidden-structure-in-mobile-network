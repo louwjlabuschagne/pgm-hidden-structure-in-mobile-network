{
 "cells": [
  {
   "cell_type": "markdown",
   "metadata": {
    "toc": true
   },
   "source": [
    "<h1>Table of Contents<span class=\"tocSkip\"></span></h1>\n",
    "<div class=\"toc\"><ul class=\"toc-item\"><li><span><a href=\"#Setup\" data-toc-modified-id=\"Setup-1\"><span class=\"toc-item-num\">1&nbsp;&nbsp;</span>Setup</a></span><ul class=\"toc-item\"><li><span><a href=\"#Imports\" data-toc-modified-id=\"Imports-1.1\"><span class=\"toc-item-num\">1.1&nbsp;&nbsp;</span>Imports</a></span></li><li><span><a href=\"#File-Config\" data-toc-modified-id=\"File-Config-1.2\"><span class=\"toc-item-num\">1.2&nbsp;&nbsp;</span>File Config</a></span></li><li><span><a href=\"#Simulation-Config\" data-toc-modified-id=\"Simulation-Config-1.3\"><span class=\"toc-item-num\">1.3&nbsp;&nbsp;</span>Simulation Config</a></span></li></ul></li><li><span><a href=\"#Generate-Dataset\" data-toc-modified-id=\"Generate-Dataset-2\"><span class=\"toc-item-num\">2&nbsp;&nbsp;</span>Generate Dataset</a></span></li><li><span><a href=\"#Save-Sample-or-Read-In\" data-toc-modified-id=\"Save-Sample-or-Read-In-3\"><span class=\"toc-item-num\">3&nbsp;&nbsp;</span>Save Sample or Read In</a></span></li><li><span><a href=\"#Run-Model\" data-toc-modified-id=\"Run-Model-4\"><span class=\"toc-item-num\">4&nbsp;&nbsp;</span>Run Model</a></span></li><li><span><a href=\"#Results\" data-toc-modified-id=\"Results-5\"><span class=\"toc-item-num\">5&nbsp;&nbsp;</span>Results</a></span><ul class=\"toc-item\"><li><span><a href=\"#Customers-Join\" data-toc-modified-id=\"Customers-Join-5.1\"><span class=\"toc-item-num\">5.1&nbsp;&nbsp;</span>Customers Join</a></span></li><li><span><a href=\"#Site-Join\" data-toc-modified-id=\"Site-Join-5.2\"><span class=\"toc-item-num\">5.2&nbsp;&nbsp;</span>Site Join</a></span></li><li><span><a href=\"#GMM\" data-toc-modified-id=\"GMM-5.3\"><span class=\"toc-item-num\">5.3&nbsp;&nbsp;</span>GMM</a></span></li></ul></li><li><span><a href=\"#Performance\" data-toc-modified-id=\"Performance-6\"><span class=\"toc-item-num\">6&nbsp;&nbsp;</span>Performance</a></span></li><li><span><a href=\"#Viz\" data-toc-modified-id=\"Viz-7\"><span class=\"toc-item-num\">7&nbsp;&nbsp;</span>Viz</a></span></li></ul></div>"
   ]
  },
  {
   "cell_type": "markdown",
   "metadata": {},
   "source": [
    "# Generate nNPS data #\n"
   ]
  },
  {
   "cell_type": "markdown",
   "metadata": {},
   "source": [
    "The purpose of this notebook is to create a dummy dataset for modelling network NPS. It simulates interactions between customers and the mobile network based on empirical distributions. This can be graphically represented by a bipartite graph having a set of nodes for sites $S_N$ and a set of nodes for customers $C_K$. To generate data from the simulation we follow these steps: \n",
    "\n",
    "1. for each site sample an average daily site performance KPI $x_N$,\n",
    "2. for each site sample a number of daily surveyed customer interactions $D_N$,\n",
    "3. for each number of connections in $D_N$ sample a random customer id from $C_K$,\n",
    "4. for each customer $C_K$ determine p(*hadBadInteraction*),\n",
    "5. for each customer $C_K$ add noise to determine p(*isDetractor*)."
   ]
  },
  {
   "cell_type": "markdown",
   "metadata": {},
   "source": [
    "## Setup"
   ]
  },
  {
   "cell_type": "markdown",
   "metadata": {},
   "source": [
    "### Imports"
   ]
  },
  {
   "cell_type": "code",
   "execution_count": null,
   "metadata": {
    "ExecuteTime": {
     "end_time": "2020-12-03T06:29:52.649146Z",
     "start_time": "2020-12-03T06:29:51.056268Z"
    }
   },
   "outputs": [],
   "source": [
    "%matplotlib notebook\n",
    "\n",
    "import csv\n",
    "import os\n",
    "import json\n",
    "import pandas as pd\n",
    "import numpy as np\n",
    "import scipy.stats as stats\n",
    "import plotly.express as px\n",
    "import plotly.graph_objects as go\n",
    "import matplotlib.pyplot as plt\n",
    "\n",
    "from sklearn.metrics import classification_report, auc, confusion_matrix\n",
    "from math import floor\n",
    "\n",
    "from pathlib import Path"
   ]
  },
  {
   "cell_type": "code",
   "execution_count": null,
   "metadata": {
    "ExecuteTime": {
     "end_time": "2020-12-03T06:29:52.653960Z",
     "start_time": "2020-12-03T06:29:52.651062Z"
    }
   },
   "outputs": [],
   "source": [
    "if not Path('./data').exists():\n",
    "    os.mkdir('./data')"
   ]
  },
  {
   "cell_type": "markdown",
   "metadata": {},
   "source": [
    "### File Config"
   ]
  },
  {
   "cell_type": "code",
   "execution_count": null,
   "metadata": {
    "ExecuteTime": {
     "end_time": "2020-12-03T06:29:52.660001Z",
     "start_time": "2020-12-03T06:29:52.656127Z"
    }
   },
   "outputs": [],
   "source": [
    "data_dir = Path('./data/')\n",
    "\n",
    "dataset_filename = 'dataset.csv'\n",
    "dataset_path = data_dir/dataset_filename\n",
    "\n",
    "responses_filename = 'responses.csv'\n",
    "responses_path = data_dir/responses_filename\n",
    "\n",
    "kpis_filename = 'kpis.csv'\n",
    "kpis_path = data_dir/kpis_filename\n",
    "\n",
    "customer_results_filename = 'customer-results.csv'\n",
    "customer_results_path = data_dir/customer_results_filename\n",
    "\n",
    "sites_results_filename = 'sites-results.csv'\n",
    "sites_results_path = data_dir/sites_results_filename\n",
    "\n",
    "gmm_results_filename = 'gmm-results.csv'\n",
    "gmm_results_path = data_dir/gmm_results_filename"
   ]
  },
  {
   "cell_type": "markdown",
   "metadata": {},
   "source": [
    "### Simulation Config"
   ]
  },
  {
   "cell_type": "code",
   "execution_count": null,
   "metadata": {
    "ExecuteTime": {
     "end_time": "2020-12-03T06:29:52.665535Z",
     "start_time": "2020-12-03T06:29:52.661874Z"
    }
   },
   "outputs": [],
   "source": [
    "num_customers = 100\n",
    "avg_subs_per_site = 3 # used for the Poisson distribution per  day\n",
    "num_days = 20\n",
    "num_sites = 10\n",
    "\n",
    "weight_class_0 = 0.9\n",
    "weight_class_1 = 0.1\n",
    "\n",
    "p_error = 0.2 # we use the BSC to add noise\n",
    "\n",
    "resample = True\n",
    "viz = True"
   ]
  },
  {
   "cell_type": "markdown",
   "metadata": {},
   "source": [
    "## Generate Dataset"
   ]
  },
  {
   "cell_type": "code",
   "execution_count": null,
   "metadata": {
    "ExecuteTime": {
     "end_time": "2020-12-03T06:29:52.681904Z",
     "start_time": "2020-12-03T06:29:52.667837Z"
    }
   },
   "outputs": [],
   "source": [
    "N = num_days*num_sites # number of daily sites (i.e., days*sites)\n",
    "\n",
    "true_mean_0 = 0\n",
    "true_mean_1 = 10\n",
    "\n",
    "true_precision_0 = 0.05\n",
    "true_precision_1 = 0.05\n",
    "\n",
    "def sample(component):\n",
    "    if component == 0:\n",
    "        return np.random.normal(true_mean_0, np.sqrt(1 / true_precision_0), 1)[0]\n",
    "    if component == 1:\n",
    "        return np.random.normal(true_mean_1, np.sqrt(1 / true_precision_1), 1)[0]\n",
    "\n",
    "# comp 0 = good, comp 1 = bad\n",
    "mask = np.random.choice([0, 1], N, p=[weight_class_0, weight_class_1])\n",
    "kpi_data = [sample(i) for i in mask]\n",
    "df_kpi = pd.DataFrame(kpi_data, columns=['x'])\n",
    "df_kpi['comp'] = mask\n",
    "df_kpi.shape"
   ]
  },
  {
   "cell_type": "markdown",
   "metadata": {},
   "source": [
    "For each site, sample a daily degree."
   ]
  },
  {
   "cell_type": "code",
   "execution_count": null,
   "metadata": {
    "ExecuteTime": {
     "end_time": "2020-12-03T06:29:52.687851Z",
     "start_time": "2020-12-03T06:29:52.683415Z"
    }
   },
   "outputs": [],
   "source": [
    "# Note: this is the daily site degree distribution.\n",
    "D = np.random.poisson(avg_subs_per_site, N)\n",
    "D.shape"
   ]
  },
  {
   "cell_type": "code",
   "execution_count": null,
   "metadata": {
    "ExecuteTime": {
     "end_time": "2020-12-03T06:29:52.693050Z",
     "start_time": "2020-12-03T06:29:52.690852Z"
    }
   },
   "outputs": [],
   "source": [
    "# plt.hist(D, 100, alpha=0.4, color='gray')\n",
    "# plt.grid()\n",
    "# plt.xlabel('Degree distribution')\n",
    "# plt.title('Daily site degree distribution')\n",
    "# plt.show()"
   ]
  },
  {
   "cell_type": "markdown",
   "metadata": {},
   "source": [
    "We have N number of daily sites for which each daily site needs to be uniformly allocated to customers."
   ]
  },
  {
   "cell_type": "code",
   "execution_count": null,
   "metadata": {
    "ExecuteTime": {
     "end_time": "2020-12-03T06:29:52.700740Z",
     "start_time": "2020-12-03T06:29:52.695451Z"
    }
   },
   "outputs": [],
   "source": [
    "customer_ids = list(range(num_customers))\n",
    "daily_site_ids = list(range(N))\n",
    "cust_site_dict = {}\n",
    "\n",
    "for i in daily_site_ids:\n",
    "    num_customer_connections = D[i]\n",
    "    np.random.shuffle(customer_ids)\n",
    "    ids = customer_ids[:num_customer_connections]\n",
    "    for j in ids:\n",
    "        if j in cust_site_dict:\n",
    "            temp_list = cust_site_dict[j]\n",
    "            temp_list.append(i)\n",
    "            cust_site_dict.update({j:temp_list})\n",
    "        else:\n",
    "            cust_site_dict.update({j:[i]})        "
   ]
  },
  {
   "cell_type": "code",
   "execution_count": null,
   "metadata": {
    "ExecuteTime": {
     "end_time": "2020-12-03T06:29:52.705301Z",
     "start_time": "2020-12-03T06:29:52.702958Z"
    }
   },
   "outputs": [],
   "source": [
    "# test uniqueness\n",
    "# for k, v in cust_site_dict.items():\n",
    "#     if len(v) != len(set(v)):\n",
    "#         print(k)"
   ]
  },
  {
   "cell_type": "code",
   "execution_count": null,
   "metadata": {
    "ExecuteTime": {
     "end_time": "2020-12-03T06:29:52.713033Z",
     "start_time": "2020-12-03T06:29:52.707493Z"
    }
   },
   "outputs": [],
   "source": [
    "df_temp = pd.DataFrame.from_dict(cust_site_dict, orient='index')"
   ]
  },
  {
   "cell_type": "code",
   "execution_count": null,
   "metadata": {
    "ExecuteTime": {
     "end_time": "2020-12-03T06:29:52.718070Z",
     "start_time": "2020-12-03T06:29:52.714713Z"
    }
   },
   "outputs": [],
   "source": [
    "df_temp.sort_index(inplace=True)"
   ]
  },
  {
   "cell_type": "code",
   "execution_count": null,
   "metadata": {
    "ExecuteTime": {
     "end_time": "2020-12-03T06:29:52.841716Z",
     "start_time": "2020-12-03T06:29:52.720209Z"
    }
   },
   "outputs": [],
   "source": [
    "kpis = []\n",
    "comp = []\n",
    "hadBadInteraction = []\n",
    "\n",
    "for index, row in df_temp.iterrows():\n",
    "    x = row.values\n",
    "    ids = x[~np.isnan(x)].astype(int)\n",
    "    kpis.append(df_kpi.loc[ids, 'x'].values.round(2).tolist())\n",
    "    comp.append(df_kpi.loc[ids, 'comp'].values)\n",
    "    # deterministic OR logic\n",
    "    hadBadInteraction.append(np.any(df_kpi.loc[ids, 'comp']))"
   ]
  },
  {
   "cell_type": "code",
   "execution_count": null,
   "metadata": {
    "ExecuteTime": {
     "end_time": "2020-12-03T06:29:52.845805Z",
     "start_time": "2020-12-03T06:29:52.843482Z"
    }
   },
   "outputs": [],
   "source": [
    "# y = list(map(lambda x: 1 if x else 0, hadBadInteraction))\n",
    "# plt.hist(y, 10)\n",
    "# plt.grid()\n",
    "# plt.xlabel('$p(hadBadInteraction)$')\n",
    "# plt.show()"
   ]
  },
  {
   "cell_type": "code",
   "execution_count": null,
   "metadata": {
    "ExecuteTime": {
     "end_time": "2020-12-03T06:29:52.852364Z",
     "start_time": "2020-12-03T06:29:52.847591Z"
    }
   },
   "outputs": [],
   "source": [
    "df_temp['kpis'] = kpis\n",
    "df_temp['component'] = comp\n",
    "df_temp['hadBadInteraction'] = hadBadInteraction"
   ]
  },
  {
   "cell_type": "code",
   "execution_count": null,
   "metadata": {
    "ExecuteTime": {
     "end_time": "2020-12-03T06:29:52.858994Z",
     "start_time": "2020-12-03T06:29:52.854399Z"
    }
   },
   "outputs": [],
   "source": [
    "df_customers = df_temp.loc[:, :'kpis'].drop(['kpis'], axis=1)"
   ]
  },
  {
   "cell_type": "code",
   "execution_count": null,
   "metadata": {
    "ExecuteTime": {
     "end_time": "2020-12-03T06:29:52.903932Z",
     "start_time": "2020-12-03T06:29:52.860723Z"
    }
   },
   "outputs": [],
   "source": [
    "df_customers = df_customers.apply(lambda x: list(x[~np.isnan(x)].astype(int)), axis=1)"
   ]
  },
  {
   "cell_type": "code",
   "execution_count": null,
   "metadata": {
    "ExecuteTime": {
     "end_time": "2020-12-03T06:29:52.909324Z",
     "start_time": "2020-12-03T06:29:52.905304Z"
    }
   },
   "outputs": [],
   "source": [
    "df_customers = pd.DataFrame(df_customers, columns=['temp'])"
   ]
  },
  {
   "cell_type": "code",
   "execution_count": null,
   "metadata": {
    "ExecuteTime": {
     "end_time": "2020-12-03T06:29:52.915675Z",
     "start_time": "2020-12-03T06:29:52.911054Z"
    }
   },
   "outputs": [],
   "source": [
    "df_customers['site_ids'] = [','.join(map(str, l)) for l in df_customers['temp']]"
   ]
  },
  {
   "cell_type": "code",
   "execution_count": null,
   "metadata": {
    "ExecuteTime": {
     "end_time": "2020-12-03T06:29:52.921863Z",
     "start_time": "2020-12-03T06:29:52.917265Z"
    }
   },
   "outputs": [],
   "source": [
    "df_temp.shape, df_customers.shape"
   ]
  },
  {
   "cell_type": "code",
   "execution_count": null,
   "metadata": {
    "ExecuteTime": {
     "end_time": "2020-12-03T06:29:52.935129Z",
     "start_time": "2020-12-03T06:29:52.924179Z"
    }
   },
   "outputs": [],
   "source": [
    "df_customers['hadBadInteraction'] = df_temp['hadBadInteraction'].astype(int)\n",
    "df_customers['isDetractor'] = df_customers['hadBadInteraction']\n",
    "\n",
    "# hadBadSiteInt, isDetractor, p(isDetractor|hadBadSiteInt)\n",
    "# 0              0            1 - p(error)\n",
    "# 0              1            p(error)\n",
    "# 1              0            p(error)\n",
    "# 1              1            1 - p(error)\n",
    "\n",
    "mask = df_customers[df_customers['hadBadInteraction'] == 0].sample(frac=p_error).index.values\n",
    "df_customers.loc[mask, 'isDetractor'] = 1\n",
    "mask = df_customers[df_customers['hadBadInteraction'] == 1].sample(frac=p_error).index.values\n",
    "df_customers.loc[mask, 'isDetractor'] = 0"
   ]
  },
  {
   "cell_type": "markdown",
   "metadata": {},
   "source": [
    "## Save Sample or Read In"
   ]
  },
  {
   "cell_type": "markdown",
   "metadata": {},
   "source": [
    "Create dataset.csv file, which has number of customers as rows and jagged daily site ids as columns."
   ]
  },
  {
   "cell_type": "code",
   "execution_count": null,
   "metadata": {
    "ExecuteTime": {
     "end_time": "2020-12-03T06:29:52.944746Z",
     "start_time": "2020-12-03T06:29:52.936823Z"
    }
   },
   "outputs": [],
   "source": [
    "if resample:\n",
    "    config = {'num_customers' :num_customers,\n",
    "          'avg_subs_per_site' :avg_subs_per_site,\n",
    "          'num_days' :num_days,\n",
    "          'num_sites' :num_sites,\n",
    "          'weight_class_0' :weight_class_0,\n",
    "          'weight_class_1' :weight_class_1}\n",
    "    with open(data_dir/'config.json', 'w') as fp:\n",
    "        json.dump(config, fp)\n",
    "    df_customers.to_pickle(data_dir/'df_customers.pck')\n",
    "    df_kpi.to_pickle(data_dir/'df_kpi.pck')\n",
    "    df_temp.to_pickle(data_dir/'df_temp.pck')"
   ]
  },
  {
   "cell_type": "code",
   "execution_count": null,
   "metadata": {
    "ExecuteTime": {
     "end_time": "2020-12-03T06:29:52.954128Z",
     "start_time": "2020-12-03T06:29:52.950140Z"
    }
   },
   "outputs": [],
   "source": [
    "with open(data_dir/'config.json', 'r') as fp:\n",
    "    config = json.load(fp)\n",
    "num_customers = config['num_customers']\n",
    "avg_subs_per_site = config['avg_subs_per_site']\n",
    "num_days = config['num_days']\n",
    "num_sites = config['num_sites']\n",
    "\n",
    "weight_class_0 = config['weight_class_0']\n",
    "weight_class_1 = config['weight_class_1']"
   ]
  },
  {
   "cell_type": "code",
   "execution_count": null,
   "metadata": {
    "ExecuteTime": {
     "end_time": "2020-12-03T06:29:52.970417Z",
     "start_time": "2020-12-03T06:29:52.957480Z"
    }
   },
   "outputs": [],
   "source": [
    "# Don't quite trust the dropna here, for some reason subs get dropped\n",
    "# Causing a missalignment in joining the results\n",
    "df_customers = pd.read_pickle(data_dir/'df_customers.pck').\\\n",
    "dropna().\\\n",
    "reset_index().\\\n",
    "drop('index', axis=1)\n",
    "\n",
    "df_customers.\\\n",
    "site_ids.\\\n",
    "str.\\\n",
    "replace(',', ';').\\\n",
    "to_csv(dataset_path, \n",
    "       sep=',', \n",
    "       quoting=csv.QUOTE_NONE,\n",
    "       header=False, \n",
    "       index=False)\n"
   ]
  },
  {
   "cell_type": "markdown",
   "metadata": {},
   "source": [
    "Create kpis.csv file, which has number of days multiplied with number of unique sites equal to the number of rows."
   ]
  },
  {
   "cell_type": "code",
   "execution_count": null,
   "metadata": {
    "ExecuteTime": {
     "end_time": "2020-12-03T06:29:52.979035Z",
     "start_time": "2020-12-03T06:29:52.972736Z"
    }
   },
   "outputs": [],
   "source": [
    "df_kpi = pd.read_pickle(data_dir/'df_kpi.pck')\n",
    "df_kpi['x'].to_csv(kpis_path, \n",
    "#                    decimal = ',',\n",
    "                   sep=',', \n",
    "                   header=False, \n",
    "                   index=False)"
   ]
  },
  {
   "cell_type": "markdown",
   "metadata": {},
   "source": [
    "Create responses.csv file, which has number of customers as rows."
   ]
  },
  {
   "cell_type": "code",
   "execution_count": null,
   "metadata": {
    "ExecuteTime": {
     "end_time": "2020-12-03T06:29:52.985435Z",
     "start_time": "2020-12-03T06:29:52.980779Z"
    }
   },
   "outputs": [],
   "source": [
    "df_customers['isDetractor'].\\\n",
    "to_csv(responses_path, \n",
    "       sep=',', \n",
    "       header=False, \n",
    "       index=False)"
   ]
  },
  {
   "cell_type": "markdown",
   "metadata": {},
   "source": [
    "## Run Model"
   ]
  },
  {
   "cell_type": "code",
   "execution_count": null,
   "metadata": {
    "ExecuteTime": {
     "end_time": "2020-12-03T06:29:52.992343Z",
     "start_time": "2020-12-03T06:29:52.987705Z"
    }
   },
   "outputs": [],
   "source": [
    "dotnet_cmd = f'dotnet run --project ../model-v1/ '\n",
    "args = f'../notebooks/{data_dir}/ {dataset_filename} {responses_filename} {kpis_filename} {num_days} {num_sites}'\n",
    "cmd = dotnet_cmd + args\n",
    "print(cmd)"
   ]
  },
  {
   "cell_type": "code",
   "execution_count": null,
   "metadata": {
    "ExecuteTime": {
     "end_time": "2020-12-03T06:30:00.677801Z",
     "start_time": "2020-12-03T06:29:52.994035Z"
    }
   },
   "outputs": [],
   "source": [
    "!{cmd}"
   ]
  },
  {
   "cell_type": "markdown",
   "metadata": {},
   "source": [
    "## Results"
   ]
  },
  {
   "cell_type": "markdown",
   "metadata": {},
   "source": [
    "### Customers Join"
   ]
  },
  {
   "cell_type": "code",
   "execution_count": null,
   "metadata": {
    "ExecuteTime": {
     "end_time": "2020-12-03T06:30:00.696418Z",
     "start_time": "2020-12-03T06:30:00.680575Z"
    }
   },
   "outputs": [],
   "source": [
    "df_customers_results = pd.read_csv(customer_results_path, \n",
    "                                   header=None, \n",
    "                                   sep=';',\n",
    "                                   names=['hadBadSiteInter'])\n",
    "\n",
    "df_customers_results.hadBadSiteInter = df_customers_results.\\\n",
    "hadBadSiteInter.astype(str).\\\n",
    "str.replace(',','.').\\\n",
    "apply(lambda x: float(x))"
   ]
  },
  {
   "cell_type": "code",
   "execution_count": null,
   "metadata": {
    "ExecuteTime": {
     "end_time": "2020-12-03T06:30:00.705041Z",
     "start_time": "2020-12-03T06:30:00.699973Z"
    }
   },
   "outputs": [],
   "source": [
    "assert df_customers_results.shape[0] == df_customers.shape[0], 'need to have the same amount of customers'"
   ]
  },
  {
   "cell_type": "code",
   "execution_count": null,
   "metadata": {
    "ExecuteTime": {
     "end_time": "2020-12-03T06:30:00.713707Z",
     "start_time": "2020-12-03T06:30:00.707448Z"
    }
   },
   "outputs": [],
   "source": [
    "df_customers_results = pd.concat([df_customers, \n",
    "                                  df_customers_results], \n",
    "                                 axis=1).\\\n",
    "reset_index().\\\n",
    "rename(columns={'index':'cust_id'})"
   ]
  },
  {
   "cell_type": "code",
   "execution_count": null,
   "metadata": {
    "ExecuteTime": {
     "end_time": "2020-12-03T06:30:00.720995Z",
     "start_time": "2020-12-03T06:30:00.715985Z"
    },
    "scrolled": true
   },
   "outputs": [],
   "source": [
    "assert df_customers_results.isna().sum().sum() == 0, 'There shouldn \\'t be missing values here'"
   ]
  },
  {
   "cell_type": "code",
   "execution_count": null,
   "metadata": {
    "ExecuteTime": {
     "end_time": "2020-12-03T06:30:00.725914Z",
     "start_time": "2020-12-03T06:30:00.723065Z"
    }
   },
   "outputs": [],
   "source": [
    "# df_customers_results.sample(10)"
   ]
  },
  {
   "cell_type": "markdown",
   "metadata": {},
   "source": [
    "### Site Join"
   ]
  },
  {
   "cell_type": "code",
   "execution_count": null,
   "metadata": {
    "ExecuteTime": {
     "end_time": "2020-12-03T06:30:00.735807Z",
     "start_time": "2020-12-03T06:30:00.727920Z"
    }
   },
   "outputs": [],
   "source": [
    "df_sites_results = pd.read_csv(sites_results_path, \n",
    "                               sep=';',\n",
    "                               header=None, \n",
    "                               names=['hadBadPerf'])\n",
    "df_sites_results.hadBadPerf = df_sites_results.hadBadPerf.astype(str).str.replace(',','.').apply(lambda x: float(x))"
   ]
  },
  {
   "cell_type": "code",
   "execution_count": null,
   "metadata": {
    "ExecuteTime": {
     "end_time": "2020-12-03T06:30:00.741162Z",
     "start_time": "2020-12-03T06:30:00.737837Z"
    }
   },
   "outputs": [],
   "source": [
    "assert df_kpi.shape[0] == df_sites_results.shape[0], 'need to have the same amount of sites'"
   ]
  },
  {
   "cell_type": "code",
   "execution_count": null,
   "metadata": {
    "ExecuteTime": {
     "end_time": "2020-12-03T06:30:00.748279Z",
     "start_time": "2020-12-03T06:30:00.743461Z"
    },
    "scrolled": true
   },
   "outputs": [],
   "source": [
    "df_kpi.shape, df_sites_results.shape"
   ]
  },
  {
   "cell_type": "code",
   "execution_count": null,
   "metadata": {
    "ExecuteTime": {
     "end_time": "2020-12-03T06:30:00.755386Z",
     "start_time": "2020-12-03T06:30:00.750181Z"
    }
   },
   "outputs": [],
   "source": [
    "df_sites_results = pd.concat([df_kpi, df_sites_results], axis=1).\\\n",
    "reset_index().rename(columns={'index':'site_id'})"
   ]
  },
  {
   "cell_type": "code",
   "execution_count": null,
   "metadata": {
    "ExecuteTime": {
     "end_time": "2020-12-03T06:30:00.761810Z",
     "start_time": "2020-12-03T06:30:00.757678Z"
    }
   },
   "outputs": [],
   "source": [
    "assert df_sites_results.isna().sum().sum() == 0, 'There shouldn \\'t be missing values here'"
   ]
  },
  {
   "cell_type": "markdown",
   "metadata": {},
   "source": [
    "### GMM"
   ]
  },
  {
   "cell_type": "code",
   "execution_count": null,
   "metadata": {
    "ExecuteTime": {
     "end_time": "2020-12-03T06:30:00.772351Z",
     "start_time": "2020-12-03T06:30:00.763871Z"
    }
   },
   "outputs": [],
   "source": [
    "df_gmm_results = pd.read_csv(gmm_results_path, header=None, names=['mean', 'precision'], sep=';')\n",
    "df_gmm_results['mean'] = df_gmm_results['mean'].astype(str).str.replace(',','.').astype(float)\n",
    "df_gmm_results['precision'] = df_gmm_results['precision'].astype(str).str.replace(',','.').astype(float)"
   ]
  },
  {
   "cell_type": "code",
   "execution_count": null,
   "metadata": {
    "ExecuteTime": {
     "end_time": "2020-12-03T06:30:00.785192Z",
     "start_time": "2020-12-03T06:30:00.774788Z"
    }
   },
   "outputs": [],
   "source": [
    "df_gmm_results"
   ]
  },
  {
   "cell_type": "code",
   "execution_count": null,
   "metadata": {
    "ExecuteTime": {
     "end_time": "2020-12-03T06:30:00.789921Z",
     "start_time": "2020-12-03T06:30:00.787130Z"
    }
   },
   "outputs": [],
   "source": [
    "# fig, ax = plt.subplots(2, 1, sharex=True)\n",
    "# ax[0].hist(df_sites_results['x'], 100, alpha=0.4, color='gray', label='$x_{kpi}$')\n",
    "# ax[0].grid()\n",
    "# ax[0].legend()\n",
    "\n",
    "# m0 = df_gmm_results.loc[0, 'mean']\n",
    "# p0 = df_gmm_results.loc[0, 'precision']\n",
    "\n",
    "# sigma = np.sqrt(1 / p0)\n",
    "# xx = np.linspace(m0 - 6 * sigma, m0 + 6 * sigma, 500)\n",
    "# ax[1].plot(xx, stats.norm.pdf(xx, m0, sigma), label='Good', color='green')\n",
    "\n",
    "# m1 = df_gmm_results.loc[1, 'mean']\n",
    "# p1 = df_gmm_results.loc[1, 'precision']\n",
    "\n",
    "# sigma = np.sqrt(1 / p1)\n",
    "# xx = np.linspace(m1 - 6 * sigma, m1 + 6 * sigma, 500)\n",
    "# ax[1].plot(xx, stats.norm.pdf(xx, m1, sigma), label='Bad', color='red')\n",
    "# ax[1].grid()\n",
    "\n",
    "# # TODO: need to add the weight distribution posterior (default = 0.5 for now)\n",
    "# w = 0.5\n",
    "# w0 = 1 - w\n",
    "# w1 = w\n",
    "# xx = np.linspace(df_sites_results['x'].min(), df_sites_results['x'].max(), 500)\n",
    "# ax[1].plot(xx, (w0 * stats.norm.pdf(xx, m0, np.sqrt(1 / p0))) + \\\n",
    "#                (w1 * stats.norm.pdf(xx, m1, np.sqrt(1 / p1))), linestyle='--', color='black', alpha=0.3, label=r'$\\sum_{k} \\pi_k \\mathcal{N}$($\\mu_k$, $\\gamma_{k}^{-1}$)')\n",
    "\n",
    "# ax[1].legend()\n",
    "\n",
    "# plt.show()"
   ]
  },
  {
   "cell_type": "markdown",
   "metadata": {},
   "source": [
    "## Performance"
   ]
  },
  {
   "cell_type": "code",
   "execution_count": null,
   "metadata": {
    "ExecuteTime": {
     "end_time": "2020-12-03T06:30:00.803480Z",
     "start_time": "2020-12-03T06:30:00.792094Z"
    }
   },
   "outputs": [],
   "source": [
    "cust_threshold = 0.5\n",
    "cust_y_true = list(df_customers_results.isDetractor)\n",
    "cust_y_pred = [int(v > cust_threshold) for v in list(df_customers_results.hadBadSiteInter)]\n",
    "target_names = ['promotors', 'detractors']\n",
    "print(confusion_matrix(cust_y_true, cust_y_pred))\n",
    "print(classification_report(cust_y_true, cust_y_pred, target_names=target_names))"
   ]
  },
  {
   "cell_type": "code",
   "execution_count": null,
   "metadata": {
    "ExecuteTime": {
     "end_time": "2020-12-03T06:30:00.817796Z",
     "start_time": "2020-12-03T06:30:00.805421Z"
    }
   },
   "outputs": [],
   "source": [
    "site_threshold = 0.5\n",
    "site_y_true = list(df_sites_results.comp)\n",
    "site_y_pred = [int(v > site_threshold) for v in list(df_sites_results.hadBadPerf)]\n",
    "target_names = ['good', 'bad']\n",
    "print(confusion_matrix(site_y_true, site_y_pred))\n",
    "print(classification_report(site_y_true, site_y_pred, target_names=target_names))"
   ]
  },
  {
   "cell_type": "code",
   "execution_count": null,
   "metadata": {
    "ExecuteTime": {
     "end_time": "2020-12-03T06:30:00.823218Z",
     "start_time": "2020-12-03T06:30:00.820278Z"
    }
   },
   "outputs": [],
   "source": [
    "# fpr, tpr, _ = roc_curve(site_y_true, site_y_pred)\n",
    "# roc_auc = auc(fpr, tpr)\n",
    "# plt.plot(fpr, tpr)\n",
    "# plt.plot([0, 1], [0, 1], color='black', linestyle='--')\n",
    "# plt.xlim([-0.01, 1.0])\n",
    "# plt.ylim([0.0, 1.05])\n",
    "# plt.title(\"AUC: {0:.3f}\".format(roc_auc))\n",
    "# plt.xlabel('False Positive Rate')\n",
    "# plt.ylabel('True Positive Rate')\n",
    "# plt.grid()\n",
    "# plt.show()"
   ]
  },
  {
   "cell_type": "markdown",
   "metadata": {},
   "source": [
    "## Viz"
   ]
  },
  {
   "cell_type": "code",
   "execution_count": null,
   "metadata": {
    "ExecuteTime": {
     "end_time": "2020-12-03T06:30:00.829550Z",
     "start_time": "2020-12-03T06:30:00.825424Z"
    }
   },
   "outputs": [],
   "source": [
    "cust_y = -1*(num_days)\n",
    "site_y = 1\n",
    "num_customers = df_customers_results.shape[0]\n",
    "\n",
    "if num_sites > num_customers:\n",
    "    x_offset = (num_sites-num_customers)/2\n",
    "else:\n",
    "    x_offset = -1*((num_customers-num_sites)/2)\n",
    "    \n",
    "nnps_colors = list(px.colors.diverging.RdYlGn_r)"
   ]
  },
  {
   "cell_type": "code",
   "execution_count": null,
   "metadata": {
    "ExecuteTime": {
     "end_time": "2020-12-03T06:30:02.443255Z",
     "start_time": "2020-12-03T06:30:00.831718Z"
    },
    "scrolled": false
   },
   "outputs": [],
   "source": [
    "if viz:\n",
    "    fig = go.Figure()\n",
    "\n",
    "    # Plot Sites\n",
    "    all_site_ids = list(df_sites_results.site_id.values)\n",
    "    all_bad_perf = list(df_sites_results.hadBadPerf.values)\n",
    "    for day in range(0, num_days):\n",
    "        adj_site_ids = all_site_ids[num_sites*day:num_sites*(day+1)]\n",
    "        site_ids = [s%num_sites for s in adj_site_ids]\n",
    "        i = 0\n",
    "        for bad_perf, site_id in zip(all_bad_perf, site_ids):\n",
    "            site_df = df_sites_results[df_sites_results.site_id == site_id + num_sites*day]\n",
    "            site_x = site_df.x.values[0]\n",
    "            site_comp = site_df.comp.values[0]\n",
    "            fig.add_trace(\n",
    "                go.Scatter(x=[site_id], \n",
    "                           y=[site_y*(day+1)], \n",
    "                           mode='markers',\n",
    "                           showlegend=i==0,\n",
    "                           name=f'Sites on day {day}',\n",
    "                           legendgroup=f'day_{day}',\n",
    "                           marker=dict(color=nnps_colors[int(bad_perf*10)]),\n",
    "                           hovertemplate = 'Site: %{x} <br>Day: %{y} <br>had bad perf:' + \n",
    "                           f'{bad_perf}'+\n",
    "                           f'<br>x = {site_x}<br>comp = {site_comp}'))\n",
    "            i = i+1\n",
    "    for i, cust in df_customers_results.iterrows():\n",
    "        # Plot Customers\n",
    "        x = cust.cust_id\n",
    "        fig.add_trace(go.Scatter(x=[x+x_offset], \n",
    "                                 y=[cust_y], \n",
    "                                 mode='markers', \n",
    "                                 marker=dict(color=nnps_colors[int(cust.hadBadSiteInter*10)]),\n",
    "                                 legendgroup=f'cust_{x}',\n",
    "                                 hovertemplate = f'Customer: {x}'+\n",
    "                                 f'<br>had bad site interactions: %{str(cust.hadBadSiteInter)}'+\n",
    "                                 f'<br>isDetractor: {cust.isDetractor}',\n",
    "                                 text = cust.hadBadSiteInter,\n",
    "                                 name=f'Customer {x}'))\n",
    "        # Plot Connections\n",
    "        connected_sites = cust.temp\n",
    "        for site in connected_sites:\n",
    "            site_id = site%num_sites\n",
    "            site_day = floor(site/num_sites)\n",
    "            fig.add_trace(go.Scatter(x=[x+x_offset, site_id],\n",
    "                                     showlegend=False,\n",
    "                                     legendgroup=f'cust_{x}',\n",
    "                                     opacity=0.1,\n",
    "                                     line={'color':'#aaa', 'width':1},\n",
    "                                     mode='lines',\n",
    "                                     y=[cust_y, (site_day+1)*site_y]))\n",
    "    fig.update_xaxes(showgrid=False, zeroline=False, range=[min(x_offset, 0)-1, max(num_sites, num_customers/1.8)+1], showticklabels=False)\n",
    "    fig.update_yaxes(showgrid=False, zeroline=False, range=[min(cust_y, site_y)-1, num_days+1], showticklabels=False)\n",
    "    fig.update_layout(template='plotly_dark', height=600)\n",
    "    fig.show()"
   ]
  },
  {
   "cell_type": "code",
   "execution_count": null,
   "metadata": {},
   "outputs": [],
   "source": []
  },
  {
   "cell_type": "code",
   "execution_count": null,
   "metadata": {},
   "outputs": [],
   "source": []
  },
  {
   "cell_type": "code",
   "execution_count": null,
   "metadata": {},
   "outputs": [],
   "source": []
  },
  {
   "cell_type": "code",
   "execution_count": null,
   "metadata": {},
   "outputs": [],
   "source": []
  },
  {
   "cell_type": "code",
   "execution_count": null,
   "metadata": {},
   "outputs": [],
   "source": []
  },
  {
   "cell_type": "code",
   "execution_count": null,
   "metadata": {},
   "outputs": [],
   "source": []
  },
  {
   "cell_type": "code",
   "execution_count": null,
   "metadata": {},
   "outputs": [],
   "source": []
  }
 ],
 "metadata": {
  "kernelspec": {
   "display_name": "Python 3.9.13 64-bit ('3.9.13')",
   "language": "python",
   "name": "python3"
  },
  "language_info": {
   "codemirror_mode": {
    "name": "ipython",
    "version": 3
   },
   "file_extension": ".py",
   "mimetype": "text/x-python",
   "name": "python",
   "nbconvert_exporter": "python",
   "pygments_lexer": "ipython3",
   "version": "3.9.13"
  },
  "latex_envs": {
   "LaTeX_envs_menu_present": true,
   "autoclose": false,
   "autocomplete": true,
   "bibliofile": "biblio.bib",
   "cite_by": "apalike",
   "current_citInitial": 1,
   "eqLabelWithNumbers": true,
   "eqNumInitial": 1,
   "hotkeys": {
    "equation": "Ctrl-E",
    "itemize": "Ctrl-I"
   },
   "labels_anchors": false,
   "latex_user_defs": false,
   "report_style_numbering": false,
   "user_envs_cfg": false
  },
  "toc": {
   "base_numbering": 1,
   "nav_menu": {},
   "number_sections": true,
   "sideBar": true,
   "skip_h1_title": true,
   "title_cell": "Table of Contents",
   "title_sidebar": "Contents",
   "toc_cell": true,
   "toc_position": {
    "height": "566.5px",
    "left": "52px",
    "top": "233px",
    "width": "220.78805541992188px"
   },
   "toc_section_display": true,
   "toc_window_display": true
  },
  "vscode": {
   "interpreter": {
    "hash": "924818003efdff9b494d01ab2dc8c2efdb744fa70f39cc7ff3f97586e683305c"
   }
  }
 },
 "nbformat": 4,
 "nbformat_minor": 2
}
